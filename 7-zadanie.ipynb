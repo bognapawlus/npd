{
 "cells": [
  {
   "cell_type": "markdown",
   "metadata": {},
   "source": [
    "### Problem 7 (6 points).\n",
    "\n",
    "Numpy arrays may be used to some image processing. Here we try something cryptography-like.\n",
    "Steganography, in general, is the practice to place some hidden data in the front layer of data.\n",
    "\n",
    "#### 1) Here, we put some encoded string into an image. The goal of this task is to decrypt and print the message. \n",
    "Below, you can find some example of image processing. `redflower.bmp` is only in shades of red. If you zoom into `crypto.bmp` - top left corner - you can find some flaw in a picture. That is a place, where hidden message is encoded. To simplify decryption - all data is stored in one color layer. This is a text information. Encryption simply translates character (j=str[i]) into ASCII code (k=ord(j)). Therefore, decryption simply should find non-zero values in non-red layer and decrypt them from ASCII to string (chr(k)).\n",
    "\n",
    "HINT: Here are the coordinates, if you don't want to search for non-zero data. To make the encoding effect more visible information is stored in the 8th-position in first dimension (table[7][][]). To guess last dimension solve => violet = red + ? (in RGB we have red,green,blue layers). Or simply print the numpy array:\n",
    "\n",
    "```imtam = plt.imread('crypto.bmp')\n",
    "       imtab\n",
    "```       \n",
    "\n",
    "#### 2) Write your own encription function. Could be the one described above.\n"
   ]
  },
  {
   "cell_type": "code",
   "execution_count": 69,
   "metadata": {},
   "outputs": [],
   "source": [
    "from PIL import Image\n",
    "import numpy as np\n",
    "import scipy.misc\n",
    "import random\n",
    "\n",
    "# make red flower\n",
    "def makered(picture_name, output_name):\n",
    "    i = Image.open(picture_name)\n",
    "    dim = np.zeros((i.size[1], i.size[0]), 'int8')   \n",
    "    img_zero = Image.fromarray(dim, 'L')\n",
    "    img = Image.merge('RGB', (i, img_zero, img_zero)) # in this variant will be easy to encode\n",
    "    img.save(output_name) # (!) important to use bmp; jpg does some image conversion while saving\n",
    "    return \n",
    "    \n",
    "#change number from [0, rows*cols) to coordinates\n",
    "def replace(n, rows, cols, cord):\n",
    "    cord[0] = n // cols #coordinate of row\n",
    "    cord[1] = n % cols #coordinate of col\n",
    "\n",
    "#searching the first nonzero element in RGB-blue coordinates\n",
    "def find_non_0(arr, rows, cols): #N = rows * cols\n",
    "    first = np.zeros(2)\n",
    "    n = 0\n",
    "    end = 1\n",
    "    while arr[int(first[0]), int(first[1]), 2] == 0 and n < rows * cols:\n",
    "        n += 1\n",
    "        replace(n, rows, cols, first)\n",
    "    return n\n",
    "        \n",
    "#ENCODING\n",
    "def encode(picture_name):\n",
    "    img = Image.open(picture_name)\n",
    "    img2arr = np.asarray(img, dtype=np.uint8)\n",
    "    #to_encode = img2arr[7, 0:28, 2]\n",
    "    #print(to_encode)\n",
    "    nextp = np.zeros(2)\n",
    "    rows = img2arr.shape[0]\n",
    "    cols = img2arr.shape[1]\n",
    "    start = find_non_0(img2arr, rows, cols)\n",
    "    replace(start, rows, cols, nextp) #nextp denotes cordinates of first pixel to decoding\n",
    "    while img2arr[int(nextp[0]), int(nextp[1]), 2] != 0 and start < rows * cols:\n",
    "        replace(start, rows, cols, nextp)\n",
    "        print(chr(img2arr[int(nextp[0]), int(nextp[1]), 2]), end='')\n",
    "        start += 1\n",
    "        replace(start, rows, cols, nextp)\n",
    "        \n",
    "#random number from [0, N-str_len]\n",
    "def rand_num(N, str_len):\n",
    "    if N < str_len:\n",
    "        raise Exception(\"too long text to decoding\")\n",
    "    else:\n",
    "        return(random.randint(0, N - str_len)) \n",
    "\n",
    "#DECODING text from a file\n",
    "def decode(in_picture_name, out_picture_name, text_file_name):\n",
    "    #text file to decoding:\n",
    "    f = open(text_file_name, \"r\")\n",
    "    text = f.read()\n",
    "    f.close()\n",
    "    #print(text)\n",
    "    \n",
    "    #picture to decoding:\n",
    "    img = Image.open(in_picture_name)\n",
    "    img2arr = np.asarray(img, dtype=np.uint8)\n",
    "    \n",
    "    #decoding\n",
    "    img1arr = img2arr.copy()\n",
    "    rows = img1arr.shape[0]\n",
    "    cols = img1arr.shape[1]\n",
    "    n = rand_num(rows * cols, len(text)) #beginning  \n",
    "    \n",
    "    for i in text:\n",
    "        cord = np.zeros(2)\n",
    "        replace(n, rows, cols, cord)\n",
    "        img1arr[int(cord[0]), int(cord[1]), 2] = ord(i)\n",
    "        n += 1\n",
    "    \n",
    "    img2 = Image.fromarray(img1arr)\n",
    "    img2.save(out_picture_name)\n",
    "    \n",
    "    print(\"The picture is decoded.\")\n",
    "    "
   ]
  },
  {
   "cell_type": "code",
   "execution_count": null,
   "metadata": {},
   "outputs": [],
   "source": [
    "# make red picture\n",
    "makered('flower.jpg', 'redflower.bmp')"
   ]
  },
  {
   "cell_type": "code",
   "execution_count": 70,
   "metadata": {},
   "outputs": [
    {
     "name": "stdout",
     "output_type": "stream",
     "text": [
      "Congratulations !!! Got it! "
     ]
    }
   ],
   "source": [
    "# encode the picture\n",
    "encode('decoded.bmp') "
   ]
  },
  {
   "cell_type": "code",
   "execution_count": 67,
   "metadata": {},
   "outputs": [
    {
     "name": "stdout",
     "output_type": "stream",
     "text": [
      "The picture is decoded.\n"
     ]
    }
   ],
   "source": [
    "#decode the picture\n",
    "decode('redflower.bmp', 'decoded.bmp', 'file.txt')"
   ]
  }
 ],
 "metadata": {
  "kernelspec": {
   "display_name": "Python 3 (ipykernel)",
   "language": "python",
   "name": "python3"
  },
  "language_info": {
   "codemirror_mode": {
    "name": "ipython",
    "version": 3
   },
   "file_extension": ".py",
   "mimetype": "text/x-python",
   "name": "python",
   "nbconvert_exporter": "python",
   "pygments_lexer": "ipython3",
   "version": "3.10.6"
  }
 },
 "nbformat": 4,
 "nbformat_minor": 2
}
