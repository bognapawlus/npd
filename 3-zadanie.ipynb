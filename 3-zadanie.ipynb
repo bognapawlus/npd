{
 "cells": [
  {
   "cell_type": "code",
   "execution_count": 7,
   "id": "43a419d9",
   "metadata": {},
   "outputs": [
    {
     "name": "stdout",
     "output_type": "stream",
     "text": [
      "PRESS: \n",
      "I - inserting a new number for a given person\n",
      "R - retrieving (any) number of the indicated person,\n",
      "D - deleting the given number of the given person\n",
      "P - printing the entire book\n",
      "E - ending\n",
      "E-end/I-insert/R-show any number/D-delete/P-print: P\n",
      "\n",
      " Anna Kowalska: 49344\n",
      "\n",
      " Julia Nowak: 32284, 383274842781374, 02933\n",
      "\n",
      " Zbigniew Piec: +48 293, 9238\n",
      "\n",
      " Maciej Dworski: 758 4983 93, 34221\n",
      "\n",
      " Ola Morsk: 346532453647\n",
      "\n",
      " Julia Zolt: 993938, 9284922, 239238, 98137428918\n",
      "E-end/I-insert/R-show any number/D-delete/P-print: I\n",
      "Name: Zdzisław\n",
      "Surname: Dwieścienoga\n",
      "Phone: 100-100-200\n",
      "E-end/I-insert/R-show any number/D-delete/P-print: p\n",
      "E-end/I-insert/R-show any number/D-delete/P-print: P\n",
      "\n",
      " Anna Kowalska: 49344\n",
      "\n",
      " Julia Nowak: 32284, 383274842781374, 02933\n",
      "\n",
      " Zbigniew Piec: +48 293, 9238\n",
      "\n",
      " Maciej Dworski: 758 4983 93, 34221\n",
      "\n",
      " Ola Morsk: 346532453647\n",
      "\n",
      " Julia Zolt: 993938, 9284922, 239238, 98137428918\n",
      "\n",
      " Zdzisław Dwieścienoga: 100-100-200\n",
      "E-end/I-insert/R-show any number/D-delete/P-print: R\n",
      "Name: Zbigniew\n",
      "Surname: Piec\n",
      "+48 293\n",
      "E-end/I-insert/R-show any number/D-delete/P-print: D\n",
      "Name Julia\n",
      "Surname: jf\n",
      "Phone: 333\n",
      "there is no such person  Julia jf\n"
     ]
    },
    {
     "ename": "KeyboardInterrupt",
     "evalue": "Interrupted by user",
     "output_type": "error",
     "traceback": [
      "\u001b[1;31m---------------------------------------------------------------------------\u001b[0m",
      "\u001b[1;31mKeyboardInterrupt\u001b[0m                         Traceback (most recent call last)",
      "\u001b[1;32m~\\AppData\\Local\\Temp\\ipykernel_4596\\2048158849.py\u001b[0m in \u001b[0;36m<module>\u001b[1;34m\u001b[0m\n\u001b[0;32m     10\u001b[0m \u001b[1;33m\u001b[0m\u001b[0m\n\u001b[0;32m     11\u001b[0m \u001b[1;32mwhile\u001b[0m \u001b[0minp\u001b[0m \u001b[1;33m!=\u001b[0m \u001b[1;34m'E'\u001b[0m\u001b[1;33m:\u001b[0m\u001b[1;33m\u001b[0m\u001b[1;33m\u001b[0m\u001b[0m\n\u001b[1;32m---> 12\u001b[1;33m     \u001b[0minp\u001b[0m \u001b[1;33m=\u001b[0m \u001b[0minput\u001b[0m\u001b[1;33m(\u001b[0m\u001b[1;34m\"E-end/I-insert/R-show any number/D-delete/P-print: \"\u001b[0m\u001b[1;33m)\u001b[0m\u001b[1;33m\u001b[0m\u001b[1;33m\u001b[0m\u001b[0m\n\u001b[0m\u001b[0;32m     13\u001b[0m \u001b[1;33m\u001b[0m\u001b[0m\n\u001b[0;32m     14\u001b[0m     \u001b[1;32mif\u001b[0m \u001b[0minp\u001b[0m \u001b[1;33m==\u001b[0m \u001b[1;34m'I'\u001b[0m\u001b[1;33m:\u001b[0m\u001b[1;33m\u001b[0m\u001b[1;33m\u001b[0m\u001b[0m\n",
      "\u001b[1;32m~\\anaconda3\\lib\\site-packages\\ipykernel\\kernelbase.py\u001b[0m in \u001b[0;36mraw_input\u001b[1;34m(self, prompt)\u001b[0m\n\u001b[0;32m   1175\u001b[0m                 \u001b[1;34m\"raw_input was called, but this frontend does not support input requests.\"\u001b[0m\u001b[1;33m\u001b[0m\u001b[1;33m\u001b[0m\u001b[0m\n\u001b[0;32m   1176\u001b[0m             )\n\u001b[1;32m-> 1177\u001b[1;33m         return self._input_request(\n\u001b[0m\u001b[0;32m   1178\u001b[0m             \u001b[0mstr\u001b[0m\u001b[1;33m(\u001b[0m\u001b[0mprompt\u001b[0m\u001b[1;33m)\u001b[0m\u001b[1;33m,\u001b[0m\u001b[1;33m\u001b[0m\u001b[1;33m\u001b[0m\u001b[0m\n\u001b[0;32m   1179\u001b[0m             \u001b[0mself\u001b[0m\u001b[1;33m.\u001b[0m\u001b[0m_parent_ident\u001b[0m\u001b[1;33m[\u001b[0m\u001b[1;34m\"shell\"\u001b[0m\u001b[1;33m]\u001b[0m\u001b[1;33m,\u001b[0m\u001b[1;33m\u001b[0m\u001b[1;33m\u001b[0m\u001b[0m\n",
      "\u001b[1;32m~\\anaconda3\\lib\\site-packages\\ipykernel\\kernelbase.py\u001b[0m in \u001b[0;36m_input_request\u001b[1;34m(self, prompt, ident, parent, password)\u001b[0m\n\u001b[0;32m   1217\u001b[0m             \u001b[1;32mexcept\u001b[0m \u001b[0mKeyboardInterrupt\u001b[0m\u001b[1;33m:\u001b[0m\u001b[1;33m\u001b[0m\u001b[1;33m\u001b[0m\u001b[0m\n\u001b[0;32m   1218\u001b[0m                 \u001b[1;31m# re-raise KeyboardInterrupt, to truncate traceback\u001b[0m\u001b[1;33m\u001b[0m\u001b[1;33m\u001b[0m\u001b[0m\n\u001b[1;32m-> 1219\u001b[1;33m                 \u001b[1;32mraise\u001b[0m \u001b[0mKeyboardInterrupt\u001b[0m\u001b[1;33m(\u001b[0m\u001b[1;34m\"Interrupted by user\"\u001b[0m\u001b[1;33m)\u001b[0m \u001b[1;32mfrom\u001b[0m \u001b[1;32mNone\u001b[0m\u001b[1;33m\u001b[0m\u001b[1;33m\u001b[0m\u001b[0m\n\u001b[0m\u001b[0;32m   1220\u001b[0m             \u001b[1;32mexcept\u001b[0m \u001b[0mException\u001b[0m\u001b[1;33m:\u001b[0m\u001b[1;33m\u001b[0m\u001b[1;33m\u001b[0m\u001b[0m\n\u001b[0;32m   1221\u001b[0m                 \u001b[0mself\u001b[0m\u001b[1;33m.\u001b[0m\u001b[0mlog\u001b[0m\u001b[1;33m.\u001b[0m\u001b[0mwarning\u001b[0m\u001b[1;33m(\u001b[0m\u001b[1;34m\"Invalid Message:\"\u001b[0m\u001b[1;33m,\u001b[0m \u001b[0mexc_info\u001b[0m\u001b[1;33m=\u001b[0m\u001b[1;32mTrue\u001b[0m\u001b[1;33m)\u001b[0m\u001b[1;33m\u001b[0m\u001b[1;33m\u001b[0m\u001b[0m\n",
      "\u001b[1;31mKeyboardInterrupt\u001b[0m: Interrupted by user"
     ]
    }
   ],
   "source": [
    "print(\"PRESS: \")\n",
    "print(\"I - inserting a new number for a given person\")\n",
    "print(\"R - retrieving (any) number of the indicated person,\")\n",
    "print(\"D - deleting the given number of the given person\")\n",
    "print(\"P - printing the entire book\")\n",
    "print(\"E - ending\")\n",
    "\n",
    "dictn = dic2\n",
    "inp = '0'\n",
    "\n",
    "while inp != 'E':\n",
    "    inp = input(\"E-end/I-insert/R-show any number/D-delete/P-print: \")\n",
    "    \n",
    "    if inp == 'I':\n",
    "        name = input(\"Name: \")\n",
    "        surname = input(\"Surname: \")\n",
    "        phone = input(\"Phone: \")\n",
    "        addf(name, surname, phone, dictn)\n",
    "    \n",
    "    elif inp == 'R':\n",
    "        name = input(\"Name: \")\n",
    "        surname = input(\"Surname: \")\n",
    "        show_numberf(name, surname, dictn)\n",
    "    \n",
    "    elif inp == 'D':\n",
    "        name = input(\"Name \")\n",
    "        surname = input(\"Surname: \")\n",
    "        phone = input(\"Phone: \")        \n",
    "        removef(name, surname, phone, dictn)\n",
    "        \n",
    "    elif inp == 'P':\n",
    "        printf(dictn)\n",
    "    \n",
    "        "
   ]
  },
  {
   "cell_type": "code",
   "execution_count": 4,
   "id": "3d5e3daa",
   "metadata": {},
   "outputs": [],
   "source": [
    "#functions\n",
    "def addf(name, surname, phone, dictn):\n",
    "    key = name + \" \" + surname\n",
    "    if key in dictn:\n",
    "        dictn[key].add(phone)\n",
    "    else:\n",
    "        dictn[key] = {phone}\n",
    "    \n",
    "def show_numberf(name, surname, dictn):\n",
    "    key = name + \" \" + surname\n",
    "    if key in dictn:\n",
    "        for e in dictn[key]:\n",
    "            print(e)\n",
    "            break\n",
    "    else:\n",
    "        print(\"there is no person \", key)\n",
    "    \n",
    "def removef(name, surname, phone, dictn):\n",
    "    key = name + \" \" + surname\n",
    "    if key in dictn:\n",
    "        if phone in dictn[key]:\n",
    "            dictn[key].remove(phone)\n",
    "        else:\n",
    "            print(phone, \"is not a number of\", key)\n",
    "    else:\n",
    "        print(\"there is no such person \", key)\n",
    "    \n",
    "def printf(dictn):\n",
    "    for keys,values in dictn.items():\n",
    "        print(\"\\n\", keys, \"\\b: \", end='')\n",
    "        for el in values:\n",
    "            print(el, \"\\b, \", end='')\n",
    "        print(\"\\b\\b\")\n"
   ]
  },
  {
   "cell_type": "code",
   "execution_count": 1,
   "id": "5f69f3b4",
   "metadata": {},
   "outputs": [
    {
     "name": "stdout",
     "output_type": "stream",
     "text": [
      "3\n"
     ]
    }
   ],
   "source": [
    "print(3)"
   ]
  },
  {
   "cell_type": "code",
   "execution_count": 3,
   "id": "7cb0f47f",
   "metadata": {},
   "outputs": [
    {
     "data": {
      "text/plain": [
       "{'Anna Kowalska': {'49344'},\n",
       " 'Julia Nowak': {'02933', '32284', '383274842781374'},\n",
       " 'Zbigniew Piec': {'+48 293', '9238'},\n",
       " 'Maciej Dworski': {'34221', '758 4983 93'},\n",
       " 'Ola Morsk': {'3982'},\n",
       " 'Julia Zolt': {'239238', '9284922', '98137428918', '993938'}}"
      ]
     },
     "execution_count": 3,
     "metadata": {},
     "output_type": "execute_result"
    }
   ],
   "source": [
    "dic2 = {}\n",
    "dic2['Anna Kowalska'] = {'49344'}\n",
    "dic2['Julia Nowak'] = {'02933', '32284'}\n",
    "dic2['Zbigniew Piec'] = {'+48 293', '9238'}\n",
    "dic2['Maciej Dworski'] = {'758 4983 93', '34221'}\n",
    "dic2['Ola Morsk'] = {'3982'}\n",
    "dic2['Julia Zolt'] = {'993938', '9284922', '239238', '98137428918'}\n",
    "\n",
    "\n",
    "dic2['Julia Nowak'].add(\"383274842781374\")\n",
    "dic2"
   ]
  },
  {
   "cell_type": "code",
   "execution_count": null,
   "id": "4c7652f7",
   "metadata": {},
   "outputs": [],
   "source": []
  }
 ],
 "metadata": {
  "kernelspec": {
   "display_name": "Python 3 (ipykernel)",
   "language": "python",
   "name": "python3"
  },
  "language_info": {
   "codemirror_mode": {
    "name": "ipython",
    "version": 3
   },
   "file_extension": ".py",
   "mimetype": "text/x-python",
   "name": "python",
   "nbconvert_exporter": "python",
   "pygments_lexer": "ipython3",
   "version": "3.9.13"
  }
 },
 "nbformat": 4,
 "nbformat_minor": 5
}
