{
 "cells": [
  {
   "cell_type": "code",
   "execution_count": null,
   "id": "d185e96b",
   "metadata": {},
   "outputs": [
    {
     "name": "stdout",
     "output_type": "stream",
     "text": [
      "Monte-Carlo pi approximator.\n",
      "\n"
     ]
    }
   ],
   "source": [
    "#Bogna Pawlus\n",
    "#zadanie - lab 1.\n",
    "import random\n",
    "import math\n",
    "def pi_approximation(n):\n",
    "    num_in_circle = 0\n",
    "    for j in range(n):\n",
    "        x = random.random();\n",
    "        y = random.random();\n",
    "        if x*x + y*y < 1:\n",
    "            num_in_circle += 1\n",
    "        pi_appr = 4 * num_in_circle / n\n",
    "    return pi_appr\n",
    "\n",
    "print(\"Monte-Carlo pi approximator.\\n\")\n",
    "num_iter = int(input(\"Enter the total number of iterations: \")) #maximum number of points\n",
    "step = int(input(\"Enter the display step: \")) #step <= num_iter\n",
    "x = 0\n",
    "for i in range(int(num_iter/step)):\n",
    "    x = pi_approximation(step*(i+1))\n",
    "    print(step*(i+1), \": \", x)\n",
    "    \n",
    "print(\"The calculated final value is: \", x)\n",
    "print(\"Python math.pi equals:\", math.pi)"
   ]
  }
 ],
 "metadata": {
  "kernelspec": {
   "display_name": "Python 3 (ipykernel)",
   "language": "python",
   "name": "python3"
  },
  "language_info": {
   "codemirror_mode": {
    "name": "ipython",
    "version": 3
   },
   "file_extension": ".py",
   "mimetype": "text/x-python",
   "name": "python",
   "nbconvert_exporter": "python",
   "pygments_lexer": "ipython3",
   "version": "3.10.6"
  }
 },
 "nbformat": 4,
 "nbformat_minor": 5
}
