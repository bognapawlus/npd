{
 "cells": [
  {
   "cell_type": "code",
   "execution_count": 12,
   "id": "social-canada",
   "metadata": {},
   "outputs": [],
   "source": [
    "#zad1\n",
    "#biblioteka arktfase --- zbiorowe\n",
    "def create_file(file_name, line_count):\n",
    "    f = open(file_name, \"w\", encoding=\"UTF-8\")\n",
    "    for i in range(line_count):\n",
    "        f.write(\"line nr.\" + str(i) + \"\\n\")\n",
    "    f.close()"
   ]
  },
  {
   "cell_type": "code",
   "execution_count": 13,
   "id": "apart-yorkshire",
   "metadata": {},
   "outputs": [],
   "source": [
    "create_file(\"plik.txt\", 9)"
   ]
  },
  {
   "cell_type": "code",
   "execution_count": 25,
   "id": "dutch-dynamics",
   "metadata": {},
   "outputs": [],
   "source": [
    "#zad2\n",
    "def count_lines(file_name):\n",
    "    count = 0;\n",
    "    for line in open(file_name, \"r\"):\n",
    "        count += 1;\n",
    "    print(count)"
   ]
  },
  {
   "cell_type": "code",
   "execution_count": 26,
   "id": "wicked-healthcare",
   "metadata": {},
   "outputs": [
    {
     "name": "stdout",
     "output_type": "stream",
     "text": [
      "9\n"
     ]
    }
   ],
   "source": [
    "count_lines(\"plik.txt\")"
   ]
  },
  {
   "cell_type": "code",
   "execution_count": 53,
   "id": "retained-upgrade",
   "metadata": {},
   "outputs": [],
   "source": [
    "def reverse(lst):\n",
    "    return lst[::-1]"
   ]
  },
  {
   "cell_type": "code",
   "execution_count": 50,
   "id": "trained-denver",
   "metadata": {},
   "outputs": [
    {
     "name": "stdout",
     "output_type": "stream",
     "text": [
      "line nr.0\n",
      "line nr.1\n",
      "line nr.2\n",
      "line nr.3\n",
      "line nr.4\n",
      "line nr.5\n",
      "line nr.6\n",
      "line nr.7\n",
      "line nr.8\n",
      "\n",
      "['line nr.0', 'line nr.1', 'line nr.2', 'line nr.3', 'line nr.4', 'line nr.5', 'line nr.6', 'line nr.7', 'line nr.8', '']\n",
      "['', 'line nr.8', 'line nr.7', 'line nr.6', 'line nr.5', 'line nr.4', 'line nr.3', 'line nr.2', 'line nr.1', 'line nr.0']\n"
     ]
    }
   ],
   "source": [
    "#czytanie\n",
    "f = open(\"plik.txt\", \"r\")\n",
    "ff = f.read()\n",
    "ff = ff\n",
    "lista = ff.split(\"\\n\")\n",
    "listarw = reverse(lista)\n",
    "print(ff)\n",
    "print(lista)\n",
    "print(listarw)"
   ]
  },
  {
   "cell_type": "code",
   "execution_count": 62,
   "id": "precise-input",
   "metadata": {},
   "outputs": [],
   "source": [
    "#zad3 #splic\n",
    "def reversed_lines(input_file_name, output_file_name):\n",
    "    outp = open(output_file_name, \"w\", encoding=\"UTF-8\") #tu wpisujemy\n",
    "    out = open(input_file_name, \"r\")\n",
    "    for line in out:\n",
    "        lista = line.split(\" \")\n",
    "        lista2 = reverse(lista)\n",
    "        for x in lista2:\n",
    "            outp.write(x)\n",
    "        outp.write(\"\\n\")\n",
    "        \n",
    "    out.close()\n",
    "    outp.close()"
   ]
  },
  {
   "cell_type": "code",
   "execution_count": 63,
   "id": "accurate-destruction",
   "metadata": {},
   "outputs": [],
   "source": [
    "reversed_lines(\"plik.txt\", \"plikw.txt\")"
   ]
  },
  {
   "cell_type": "code",
   "execution_count": null,
   "id": "excellent-prefix",
   "metadata": {},
   "outputs": [],
   "source": [
    "#zad4 lista z wyrazami\n",
    "def words(file_name):\n",
    "    f = open(file_name, \"r\")\n",
    "    lista = line.split(\" \")\n",
    "    \n",
    "    f.close"
   ]
  }
 ],
 "metadata": {
  "kernelspec": {
   "display_name": "Python 3 (ipykernel)",
   "language": "python",
   "name": "python3"
  },
  "language_info": {
   "codemirror_mode": {
    "name": "ipython",
    "version": 3
   },
   "file_extension": ".py",
   "mimetype": "text/x-python",
   "name": "python",
   "nbconvert_exporter": "python",
   "pygments_lexer": "ipython3",
   "version": "3.10.6"
  }
 },
 "nbformat": 4,
 "nbformat_minor": 5
}
