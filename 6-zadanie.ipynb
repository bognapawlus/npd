{
 "cells": [
  {
   "cell_type": "code",
   "execution_count": null,
   "id": "b3eb6a79",
   "metadata": {},
   "outputs": [],
   "source": [
    "#folder zad6\n",
    "#Part A:\n",
    "#Create 7 folders named: Monday, ... , Sunday\n",
    "#In every folder create 2 subfolders: morning, evening\n",
    "#In every subfolder create 'Solutions.csv' file.\n",
    "#The 'Solutions.csv' should consist of two lines:\n",
    "#\" Model; Output value; Time of computation; \"\n",
    "#\" A ; 17 ; 465s; \"\n",
    "\n",
    "#The first line is always the same.\n",
    "#The second one should be generated randomly (x in {A,B,C}, 0-1000, 0-1000s)"
   ]
  },
  {
   "cell_type": "code",
   "execution_count": 61,
   "id": "441fa59f",
   "metadata": {},
   "outputs": [],
   "source": [
    "#PART A\n",
    "import calendar \n",
    "import os\n",
    "import random\n",
    "day_names = list(calendar.day_name)\n",
    "\n",
    "def model_rand(): #generate randomly model\n",
    "    z = random.randrange(0, 3)\n",
    "    return chr(65 + z)\n",
    "    \n",
    "def time_rand(): #generate randomly time\n",
    "    return random.randrange(0, 1001)\n",
    "\n",
    "def create_file(file_name, text):\n",
    "    f = open(file_name, \"w\", encoding=\"UTF-8\")\n",
    "    f.write(text)\n",
    "    f.close()\n",
    "\n",
    "def partA():\n",
    "    for el in day_names:\n",
    "        if not os.path.exists(el):\n",
    "            os.mkdir(el)\n",
    "            dir = ['', '']\n",
    "            dir[0] = el + \"/morning\"\n",
    "            dir[1] = el + \"/evening\"\n",
    "            \n",
    "            for d in dir:\n",
    "                os.mkdir(d)\n",
    "                d += \"/Solutions.csv\"\n",
    "                text = \" Model; Output value; Time of computation; \\n \"\n",
    "                text += model_rand() + \" ; 17 ; \" + str(time_rand()) + \"s; \"\n",
    "                create_file(d, text)\n",
    "\n",
    "partA()"
   ]
  },
  {
   "cell_type": "code",
   "execution_count": 106,
   "id": "f6ce80af",
   "metadata": {},
   "outputs": [
    {
     "name": "stdout",
     "output_type": "stream",
     "text": [
      "5895\n"
     ]
    }
   ],
   "source": [
    "#Part B:\n",
    "#Output sum of \"Time of computation\" for the model A.\n",
    "#Assume that you do not know how many folders and subfolders there are.\n",
    "import csv\n",
    "\n",
    "def partB():\n",
    "    suma = 0;\n",
    "    for el in day_names:\n",
    "        files = ['', '']\n",
    "        files[0] = el + \"/evening/Solutions.csv\"\n",
    "        files[1] = el + \"/morning/Solutions.csv\"\n",
    "        \n",
    "        for f in files:\n",
    "            file = open(f)\n",
    "            csvreader = csv.reader(file, delimiter=';')\n",
    "            rows = []\n",
    "            \n",
    "            for row in csvreader:\n",
    "                rows.append(row)\n",
    "                \n",
    "            x2 = int(rows[1][2].replace(' ', '').replace('s', ''))\n",
    "            suma += x2\n",
    "            file.close()\n",
    "    return suma\n",
    "\n",
    "print(partB())"
   ]
  }
 ],
 "metadata": {
  "kernelspec": {
   "display_name": "Python 3 (ipykernel)",
   "language": "python",
   "name": "python3"
  },
  "language_info": {
   "codemirror_mode": {
    "name": "ipython",
    "version": 3
   },
   "file_extension": ".py",
   "mimetype": "text/x-python",
   "name": "python",
   "nbconvert_exporter": "python",
   "pygments_lexer": "ipython3",
   "version": "3.10.6"
  }
 },
 "nbformat": 4,
 "nbformat_minor": 5
}
